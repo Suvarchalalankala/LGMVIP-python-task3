{
 "cells": [
  {
   "cell_type": "code",
   "execution_count": null,
   "id": "b2c04214",
   "metadata": {},
   "outputs": [],
   "source": [
    "import tkinter as tk\n",
    "from tkinter import messagebox\n",
    "import random\n",
    "\n",
    "def check_winner(user_choice, computer_choice):\n",
    "    if user_choice == computer_choice:\n",
    "        return \"It's a tie!\"\n",
    "    elif (user_choice == \"rock\" and computer_choice == \"scissors\") or (user_choice == \"paper\" and computer_choice == \"rock\") or (user_choice == \"scissors\" and computer_choice == \"paper\"):\n",
    "        return \"You win!\"\n",
    "    else:\n",
    "        return \"Computer wins!\"\n",
    "\n",
    "def play_game(user_choice):\n",
    "    choices = [\"rock\", \"paper\", \"scissors\"]\n",
    "    computer_choice = random.choice(choices)\n",
    "    result = check_winner(user_choice, computer_choice)\n",
    "    messagebox.showinfo(\"Result\", f\"Computer chose {computer_choice}. {result}\")\n",
    "\n",
    "root = tk.Tk()\n",
    "root.title(\"Rock Paper Scissors\")\n",
    "\n",
    "rock_btn = tk.Button(root, text=\"Rock\", command=lambda: play_game(\"rock\"))\n",
    "rock_btn.pack()\n",
    "\n",
    "paper_btn = tk.Button(root, text=\"Paper\", command=lambda: play_game(\"paper\"))\n",
    "paper_btn.pack()\n",
    "\n",
    "scissors_btn = tk.Button(root, text=\"Scissors\", command=lambda: play_game(\"scissors\"))\n",
    "scissors_btn.pack()\n",
    "\n",
    "root.mainloop()\n"
   ]
  },
  {
   "cell_type": "code",
   "execution_count": null,
   "id": "f8aa830b",
   "metadata": {},
   "outputs": [],
   "source": []
  }
 ],
 "metadata": {
  "kernelspec": {
   "display_name": "Python 3 (ipykernel)",
   "language": "python",
   "name": "python3"
  },
  "language_info": {
   "codemirror_mode": {
    "name": "ipython",
    "version": 3
   },
   "file_extension": ".py",
   "mimetype": "text/x-python",
   "name": "python",
   "nbconvert_exporter": "python",
   "pygments_lexer": "ipython3",
   "version": "3.11.5"
  }
 },
 "nbformat": 4,
 "nbformat_minor": 5
}
